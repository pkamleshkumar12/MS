version https://git-lfs.github.com/spec/v1
oid sha256:79c8d242695e00e42551ab0c9c15d2a6dc7964be87b2a3dc5290cd1a590b0b62
size 3262
