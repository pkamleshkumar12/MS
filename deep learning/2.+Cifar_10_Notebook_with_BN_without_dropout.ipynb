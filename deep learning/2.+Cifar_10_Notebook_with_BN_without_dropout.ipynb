version https://git-lfs.github.com/spec/v1
oid sha256:7880e49391b2007546c4803c4536014ea1318367fa1fa77c0bf44ebf67195e97
size 142985
