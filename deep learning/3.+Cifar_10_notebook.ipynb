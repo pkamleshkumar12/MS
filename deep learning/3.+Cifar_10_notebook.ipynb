version https://git-lfs.github.com/spec/v1
oid sha256:36c1f6f9dfaed32aada85562baf05f5f027d6e9dea26526b5124edbd8afde2e7
size 5269
