version https://git-lfs.github.com/spec/v1
oid sha256:de169b44fc4ce5e07e8847495aec8056784e608b9a58e9161b0374c6bd87f444
size 329506
