version https://git-lfs.github.com/spec/v1
oid sha256:89de4bbcdf2dfece008ba67ec1011c452db510c859360d1c14dcf8027e7cd822
size 20670
