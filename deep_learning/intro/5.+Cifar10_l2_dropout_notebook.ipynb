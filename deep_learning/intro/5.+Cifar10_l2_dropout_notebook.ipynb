version https://git-lfs.github.com/spec/v1
oid sha256:49e07173f4c75e0b7ca5e82b9087cff2eb74dd5b0032531e1c6352d1b4d278b5
size 5967
